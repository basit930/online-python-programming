{
 "cells": [
  {
   "cell_type": "code",
   "execution_count": 1,
   "id": "eab3225e",
   "metadata": {},
   "outputs": [
    {
     "name": "stdout",
     "output_type": "stream",
     "text": [
      "twinkle,twinkle,little star,\n",
      "       how i wonder what you are! \n",
      "            up above the world so high,\n",
      "            like a diamond in the sky.\n",
      "     twinkle, twinkle,little star,\n",
      "       how i wonder what you are\n"
     ]
    }
   ],
   "source": [
    "a='''twinkle,twinkle,little star,\n",
    "       how i wonder what you are! \n",
    "            up above the world so high,\n",
    "            like a diamond in the sky.\n",
    "     twinkle, twinkle,little star,\n",
    "       how i wonder what you are'''\n",
    "print(a)"
   ]
  },
  {
   "cell_type": "code",
   "execution_count": 4,
   "id": "1cdebb76",
   "metadata": {},
   "outputs": [
    {
     "name": "stdout",
     "output_type": "stream",
     "text": [
      "3.8.8\n"
     ]
    }
   ],
   "source": [
    "import platform\n",
    "print(platform.python_version())"
   ]
  },
  {
   "cell_type": "code",
   "execution_count": 6,
   "id": "e1f39516",
   "metadata": {},
   "outputs": [
    {
     "name": "stdout",
     "output_type": "stream",
     "text": [
      "22-01-01 12:34:28\n"
     ]
    }
   ],
   "source": [
    "from datetime import datetime\n",
    "now=datetime.now()\n",
    "print(now.strftime(\"%y-%m-%d %H:%M:%S\"))"
   ]
  },
  {
   "cell_type": "code",
   "execution_count": 7,
   "id": "3bb638fc",
   "metadata": {},
   "outputs": [
    {
     "ename": "NameError",
     "evalue": "name 'intput' is not defined",
     "output_type": "error",
     "traceback": [
      "\u001b[1;31m---------------------------------------------------------------------------\u001b[0m",
      "\u001b[1;31mNameError\u001b[0m                                 Traceback (most recent call last)",
      "\u001b[1;32m<ipython-input-7-13839fd250cb>\u001b[0m in \u001b[0;36m<module>\u001b[1;34m\u001b[0m\n\u001b[0;32m      1\u001b[0m \u001b[1;32mfrom\u001b[0m \u001b[0mmath\u001b[0m \u001b[1;32mimport\u001b[0m \u001b[0mpi\u001b[0m\u001b[1;33m\u001b[0m\u001b[1;33m\u001b[0m\u001b[0m\n\u001b[1;32m----> 2\u001b[1;33m \u001b[0mr\u001b[0m\u001b[1;33m=\u001b[0m\u001b[0mfloat\u001b[0m\u001b[1;33m(\u001b[0m\u001b[0mintput\u001b[0m\u001b[1;33m(\u001b[0m\u001b[1;34m\"enter the the radius of the circle:\"\u001b[0m\u001b[1;33m)\u001b[0m\u001b[1;33m)\u001b[0m\u001b[1;33m\u001b[0m\u001b[1;33m\u001b[0m\u001b[0m\n\u001b[0m\u001b[0;32m      3\u001b[0m \u001b[0mprint\u001b[0m\u001b[1;33m(\u001b[0m\u001b[1;34m\"area of the circle is:\"\u001b[0m \u001b[1;33m+\u001b[0m\u001b[0mstr\u001b[0m\u001b[1;33m(\u001b[0m\u001b[0mpi\u001b[0m\u001b[1;33m*\u001b[0m\u001b[0mr\u001b[0m\u001b[1;33m**\u001b[0m\u001b[1;36m2\u001b[0m\u001b[1;33m)\u001b[0m\u001b[1;33m)\u001b[0m\u001b[1;33m\u001b[0m\u001b[1;33m\u001b[0m\u001b[0m\n",
      "\u001b[1;31mNameError\u001b[0m: name 'intput' is not defined"
     ]
    }
   ],
   "source": [
    "from math import pi\n",
    "r=float(intput(\"enter the the radius of the circle:\"))\n",
    "print(\"area of the circle is:\" +str(pi*r**2))"
   ]
  },
  {
   "cell_type": "code",
   "execution_count": 8,
   "id": "951793bf",
   "metadata": {},
   "outputs": [
    {
     "name": "stdout",
     "output_type": "stream",
     "text": [
      "Input the radius of the circle : 8\n",
      "The area of the circle with radius 8.0 is: 201.06192982974676\n"
     ]
    }
   ],
   "source": [
    "from math import pi\n",
    "radius = float(input (\"Input the radius of the circle : \"))\n",
    "print (\"The area of the circle with radius \" + str(radius) + \" is: \" + str(pi * radius**2))"
   ]
  },
  {
   "cell_type": "code",
   "execution_count": 12,
   "id": "33891434",
   "metadata": {},
   "outputs": [
    {
     "name": "stdout",
     "output_type": "stream",
     "text": [
      " please enter your first namebasit\n",
      " please enter your second namenadeem\n",
      "your reverse name is nadeem basit\n"
     ]
    }
   ],
   "source": [
    "first_name=input(\" please enter your first name\")\n",
    "second_name=input(\" please enter your second name\")\n",
    "reverse_name=second_name+\" \"+first_name\n",
    "print(\"your reverse name is\",reverse_name)"
   ]
  },
  {
   "cell_type": "code",
   "execution_count": 15,
   "id": "20d7687f",
   "metadata": {},
   "outputs": [
    {
     "ename": "SyntaxError",
     "evalue": "invalid syntax (<ipython-input-15-05ae38ebbc21>, line 1)",
     "output_type": "error",
     "traceback": [
      "\u001b[1;36m  File \u001b[1;32m\"<ipython-input-15-05ae38ebbc21>\"\u001b[1;36m, line \u001b[1;32m1\u001b[0m\n\u001b[1;33m    first_input=int(input(please enter first number ))\u001b[0m\n\u001b[1;37m                                 ^\u001b[0m\n\u001b[1;31mSyntaxError\u001b[0m\u001b[1;31m:\u001b[0m invalid syntax\n"
     ]
    }
   ],
   "source": [
    "first_input=int(input(please enter first number ))\n",
    "second_input=int(input(please enter  second number))\n",
    "add_number=first_input+second_input\n",
    "print(\"answer=\",add_number)"
   ]
  },
  {
   "cell_type": "code",
   "execution_count": 16,
   "id": "0d77738d",
   "metadata": {},
   "outputs": [
    {
     "name": "stdout",
     "output_type": "stream",
     "text": [
      "Please enter first number 5\n",
      "Please enter second number 8\n",
      "Answers =  13\n"
     ]
    }
   ],
   "source": [
    "first_Input = int(input(\"Please enter first number \"))\n",
    "second_Input = int(input(\"Please enter second number \"))\n",
    "addition_OF_Numbers = first_Input+second_Input   \n",
    "print(\"Answers = \", addition_OF_Numbers)"
   ]
  },
  {
   "cell_type": "code",
   "execution_count": null,
   "id": "e9fae1db",
   "metadata": {},
   "outputs": [],
   "source": []
  }
 ],
 "metadata": {
  "kernelspec": {
   "display_name": "Python 3",
   "language": "python",
   "name": "python3"
  },
  "language_info": {
   "codemirror_mode": {
    "name": "ipython",
    "version": 3
   },
   "file_extension": ".py",
   "mimetype": "text/x-python",
   "name": "python",
   "nbconvert_exporter": "python",
   "pygments_lexer": "ipython3",
   "version": "3.8.8"
  }
 },
 "nbformat": 4,
 "nbformat_minor": 5
}
